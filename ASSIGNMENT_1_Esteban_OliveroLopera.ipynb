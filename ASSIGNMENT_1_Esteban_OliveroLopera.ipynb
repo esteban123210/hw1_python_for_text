{
 "cells": [
  {
   "cell_type": "code",
   "execution_count": null,
   "metadata": {},
   "outputs": [],
   "source": [
    "### Execise 1a:\n",
    "var1,var2,var3 = int(input(\"What is the value of variable 1? \")),int(input(\"What is the value of variable 2? \")),int(input(\"What is the value of variable 3? \"))\n",
    "average = sum([var1,var2,var3])/len([var1,var2,var3])\n",
    "print(f'\\nThe average of {var1}, {var2} and {var3} is:    {average}')"
   ]
  },
  {
   "cell_type": "code",
   "execution_count": null,
   "metadata": {},
   "outputs": [],
   "source": [
    "### Exercise 1b:\n",
    "book_store = input('Are you in a bookstore? (yes/no)         ').lower()\n",
    "ammount = int(input('How many books would you like to buy?    '))\n",
    "book_price = 24.95\n",
    "books_discount = 0.4\n",
    "total = 0\n",
    "ship = 3 + ((ammount-1)*0.75)\n",
    "if book_store[0] == 'y':    \n",
    "    total = book_price*(1-books_discount)*ammount + ship \n",
    "else:\n",
    "    total = book_price*ammount + ship \n",
    "    \n",
    "print(total)\n",
    "print(ship)"
   ]
  },
  {
   "cell_type": "code",
   "execution_count": null,
   "metadata": {},
   "outputs": [],
   "source": [
    "'''The modulus operator returns the reminding of a division\n",
    "in this example, when we input 113%9 we get 5 as the result which means that \n",
    "when we divide 113 by 9, the reminder is 5. we can prove this by simply adding (113//9)*9 + 113%9, \n",
    "which should return 113'''\n",
    "\n",
    "a = 113%9\n",
    "b = 113//9 * 9\n",
    "c = a+b\n",
    "print(f'The reminder is {a}\\nthe result of the division without decimals multiplied by 9 is {b}\\nthe sum of these two numbers is {c}')\n"
   ]
  },
  {
   "cell_type": "code",
   "execution_count": null,
   "metadata": {},
   "outputs": [],
   "source": [
    "### Exercise 1c:\n",
    "ammount = 11.56\n",
    "dollars = ammount//1\n",
    "cents = ((ammount*100)%100)\n",
    "quarters = cents//25\n",
    "dimes = (cents - quarters*25) //10\n",
    "nickles = (cents - quarters*25 - dimes*10) //5\n",
    "pennies = (cents - quarters*25 - dimes*10 - nickles*5) //1\n",
    "\n",
    "print(f'{int(dollars)} Dollar bills\\n{int(quarters)} Quarters\\n{int(dimes)} Dimes\\n{int(nickles)} Nickles\\n{int(pennies)} Pennies')"
   ]
  },
  {
   "cell_type": "code",
   "execution_count": null,
   "metadata": {},
   "outputs": [],
   "source": [
    "### Exercise 2a:\n",
    "name = input('Hello there! What is your name?\\n\\n    ').capitalize()\n",
    "age = int(input(f'\\nNice to meet you {name}. How old are you?\\n\\n    '))\n",
    "if age > 23:\n",
    "    print(f'\\nI am 23 years old, that means i am {age-23} years younger than you')\n",
    "elif age == 23:\n",
    "    print(f'\\nI am also 23 years old!! How curious!')\n",
    "elif age < 23:\n",
    "    print(f'\\nI am 23 years old, that means i am {23-age} years older than you')\n"
   ]
  },
  {
   "cell_type": "code",
   "execution_count": null,
   "metadata": {},
   "outputs": [],
   "source": [
    "### Exercise 3a:\n",
    "print('| | |\\n @ @ \\n  *  \\n|\"\"\"|')"
   ]
  },
  {
   "cell_type": "code",
   "execution_count": null,
   "metadata": {},
   "outputs": [],
   "source": [
    "### Exercise 3b:\n",
    "color = input('what is your favorite color? ')\n",
    "print('\\n')\n",
    "print((color + ' ')*10)\n",
    "print(color + (len((color + ' ')*10)-len(color*2)-1)*' ' + color)\n",
    "print(color + (len((color + ' ')*10)-len(color*2)-1)*' ' + color)\n",
    "print((color + ' ')*10)\n"
   ]
  },
  {
   "cell_type": "code",
   "execution_count": null,
   "metadata": {},
   "outputs": [],
   "source": [
    "### Exercise 4a:\n",
    "text = \"\"\"But I must explain to you how all this mistaken idea of denouncing pleasure and praising pain was born \n",
    "and I will give you a complete account of the system, and expound the actual teachings of the great explorer of the \n",
    "truth, the master-builder of human happiness. No one rejects, dislikes, or avoids pleasure itself, because it is \n",
    "pleasure, but because those who do not know how to pursue pleasure rationally encounter consequences that are \n",
    "extremely painful. Nor again is there anyone who loves or pursues or desires to obtain pain of itself, because it is \n",
    "pain, but because occasionally circumstances occur in which toil and pain can procure him some great pleasure. \n",
    "To take a trivial example, which of us ever undertakes laborious physical exercise, except to obtain some advantage \n",
    "from it? But who has any right to find fault with a man who chooses to enjoy a pleasure that has no annoying \n",
    "consequences, or one who avoids a pain that produces no resultant pleasure? On the other hand, we denounce with \n",
    "righteous indignation and dislike men who are so beguiled and demoralized by the charms of pleasure of the moment, \n",
    "so blinded by desire, that they cannot foresee the pain and trouble that are bound to ensue; and equal blame belongs \n",
    "to those who fail in their duty through weakness of will, which is the same as saying through shrinking from toil \n",
    "and pain.\"\"\"\n",
    "\n",
    "text = text.lower()\n",
    "print(f'''There are {text.count('a')} A\n",
    "There are {text.count('e')} E\n",
    "There are {text.count('i')} I\n",
    "There are {text.count('o')} O\n",
    "There are {text.count('u')} U''')"
   ]
  },
  {
   "cell_type": "code",
   "execution_count": null,
   "metadata": {},
   "outputs": [],
   "source": [
    "### Exercise 4b:\n",
    "text = \"\"\"           The quick, brown fox jumps over a lazy dog.\\tDJs flock by when MTV ax quiz prog. \n",
    "Junk MTV quiz graced by fox whelps.\\tBawds jog, flick quartz, vex nymphs. \n",
    "Waltz, bad nymph, for quick jigs vex!\\tFox nymphs grab quick-jived waltz. \n",
    "Brick quiz whangs jumpy veldt fox.       \"\"\"\n",
    "\n",
    "text = text.split() # This makes a list with all the words excluding white spaces\n",
    "for word in text:   # This goes trough every single word of the list\n",
    "    for letter in word:   # This goes trough every single letter of each word\n",
    "        if letter.isalpha() == False:   # This check if that letter is indeed a letter of it it's a symbol/number\n",
    "            word = word.replace(letter,'')   # This eliminates the non alphabetic characters from each word\n",
    "    print(word.lower())\n",
    "        \n",
    "            \n"
   ]
  },
  {
   "cell_type": "code",
   "execution_count": null,
   "metadata": {},
   "outputs": [],
   "source": [
    "### Exercise 4c:\n",
    "\n",
    "invalid = True\n",
    "count = 0\n",
    "spec = False\n",
    "while invalid:\n",
    "    valid = True\n",
    "    pw = input('Please indicate your password:     ')\n",
    "    if len(pw) < 6:\n",
    "        print('\\nYour password should have at least 6 characters')\n",
    "        valid = False\n",
    "    if len(pw) > 12:\n",
    "        print('\\nYour password should not have more than 12 characters')\n",
    "        valid = False\n",
    "    if pw.isalpha():\n",
    "        print('\\nYour password should also include digits and/or special characters')\n",
    "        valid = False\n",
    "    if pw.isnumeric():\n",
    "        print('\\nYour password should also include alphabetic and/or special characters')\n",
    "        valid = False\n",
    "    for item in ['`','~','!','@','#','$','%','^','&','*','(',')','_','-','=','+','[',']','}','{',':',';','\"','<','>',',','.','?','/']:\n",
    "        if item in pw:\n",
    "            spec = True\n",
    "            break\n",
    "    if not spec:\n",
    "        print('\\nYour password should also include an special character')\n",
    "        valid = False\n",
    "    if pw.islower():\n",
    "        print('\\nyour password should also include an upper case letter')\n",
    "        valid = False\n",
    "    if pw.isupper():\n",
    "        print('\\nyour password should also include a lower case letter')\n",
    "        valid = False\n",
    "    if valid:\n",
    "        invalid = False\n",
    "        print('\\nYOUR PASSWORD IS VALID') \n",
    "\n"
   ]
  },
  {
   "cell_type": "code",
   "execution_count": null,
   "metadata": {},
   "outputs": [],
   "source": [
    "### Exercise 5a:\n",
    "ticket = ''\n",
    "birth = input('Hello, is today your birthday?     ')\n",
    "speed = int(input('I noticed you were driving at a speed of (write speed):   '))\n",
    "if birth.lower()[0] == 'y':\n",
    "    if speed < 66:\n",
    "        ticket = 'No ticket'\n",
    "    elif speed in range(66,86):\n",
    "        ticket = 'Small ticket'\n",
    "    else:\n",
    "        ticket = \"Big ticket\"     \n",
    "else:\n",
    "    if speed < 61:\n",
    "        ticket = 'No ticket'\n",
    "    elif speed in range(61,81):\n",
    "        ticket = 'Small ticket'\n",
    "    else:\n",
    "        ticket = \"Big ticket\"\n",
    "print(ticket)"
   ]
  },
  {
   "cell_type": "code",
   "execution_count": 11,
   "metadata": {},
   "outputs": [
    {
     "name": "stdout",
     "output_type": "stream",
     "text": [
      "For what day would you like to set the alarm?\n",
      "0=Sun, 1=Mon, 2=Tue, ...6=Sat       7\n",
      "Are you on vacation? (yes or no)    n\n",
      "\n",
      "Alarm: 10:00\n"
     ]
    }
   ],
   "source": [
    "### Exercise 5b:\n",
    "sun,mon,tue,wed,thu,fri,sat = 0,1,2,3,4,5,6\n",
    "time = ''\n",
    "day = int(input('For what day would you like to set the alarm?\\n\\\n",
    "0=Sun, 1=Mon, 2=Tue, ...6=Sat       '))\n",
    "\n",
    "if input('Are you on vacation? (yes or no)    ').lower()[0] == 'y':\n",
    "    vacation = True\n",
    "else: \n",
    "    vacation = False\n",
    "\n",
    "if vacation:\n",
    "    if day in range(1,6):\n",
    "        time = '10:00'\n",
    "    else:\n",
    "        time = 'off'\n",
    "else:\n",
    "    if day in range(1,6):\n",
    "        time = '7:00'\n",
    "    else:\n",
    "        time = '10:00'\n",
    "print(f'\\nAlarm: {time}')        \n"
   ]
  },
  {
   "cell_type": "code",
   "execution_count": 14,
   "metadata": {},
   "outputs": [
    {
     "name": "stdout",
     "output_type": "stream",
     "text": [
      "How much does the package weights (kg)?     70\n",
      "To what zone would you like to send the package?\n",
      "1 = EUR 1\n",
      "2 = EUR 2\n",
      "3 = World\n",
      "     3\n",
      "The package is too heavy, the max weight is 30kg30\n",
      "The price for sending a 30kg parcetl to zone 3 is $NOT APPLICABLE\n"
     ]
    }
   ],
   "source": [
    "### Exercise 5c:\n",
    "weight = int(input('How much does the package weights (kg)?     '))\n",
    "zone = int(input('To what zone would you like to send the package?\\n1 = EUR 1\\n2 = EUR 2\\n3 = World\\n     '))\n",
    "price = 0\n",
    "if weight > 30:\n",
    "    weight = int(input('The package is too heavy, the max weight is 30kg'))\n",
    "if zone == 1:\n",
    "    if weight < 2:\n",
    "        price = 13.00\n",
    "    elif weight in range(2,5):\n",
    "        price = 19.50\n",
    "    elif weight in range(5,10):\n",
    "        price = 25.00\n",
    "    elif weight in range(10,20):\n",
    "        price = 34.00\n",
    "    elif weight in range(20, 31):\n",
    "        price = 45.00\n",
    "elif zone == 2:\n",
    "    if weight < 2:\n",
    "        price = 18.5\n",
    "    elif weight in range(2,5):\n",
    "        price = 25.00\n",
    "    elif weight in range(5,10):\n",
    "        price = 31.00\n",
    "    elif weight in range(10,20):\n",
    "        price = 40.00\n",
    "    elif weight in range(20, 31):\n",
    "        price = 55.00\n",
    "elif zone == 3:\n",
    "    if weight < 2:\n",
    "        price = 24.30\n",
    "    elif weight in range(2,5):\n",
    "        price = 34.30\n",
    "    elif weight in range(5,10):\n",
    "        price = 58.30\n",
    "    elif weight in range(10,20):\n",
    "        price = 105.30\n",
    "    elif weight in range(20, 31):\n",
    "        price = ''\n",
    "else:\n",
    "    zone = int(input('Please indicate the zone again (1, 2 or 3)'))\n",
    "if zone == 3 and weight >20:\n",
    "    print('Unfort')\n",
    "else:\n",
    "    print(f'The price for sending a {weight}kg parcel to zone {zone} is ${price}')\n"
   ]
  },
  {
   "cell_type": "code",
   "execution_count": null,
   "metadata": {},
   "outputs": [],
   "source": []
  }
 ],
 "metadata": {
  "kernelspec": {
   "display_name": "Python 3",
   "language": "python",
   "name": "python3"
  },
  "language_info": {
   "codemirror_mode": {
    "name": "ipython",
    "version": 3
   },
   "file_extension": ".py",
   "mimetype": "text/x-python",
   "name": "python",
   "nbconvert_exporter": "python",
   "pygments_lexer": "ipython3",
   "version": "3.7.4"
  }
 },
 "nbformat": 4,
 "nbformat_minor": 2
}
